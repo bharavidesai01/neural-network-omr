{
 "cells": [
  {
   "cell_type": "code",
   "execution_count": null,
   "metadata": {
    "ExecuteTime": {
     "end_time": "2019-07-31T14:18:45.270380Z",
     "start_time": "2019-07-31T14:18:45.201382Z"
    }
   },
   "outputs": [],
   "source": [
    "%load_ext autoreload\n",
    "%autoreload 2"
   ]
  },
  {
   "cell_type": "code",
   "execution_count": null,
   "metadata": {
    "ExecuteTime": {
     "end_time": "2019-07-31T14:17:04.845225Z",
     "start_time": "2019-07-31T14:16:59.854269Z"
    }
   },
   "outputs": [],
   "source": [
    "%reload_ext autoreload\n",
    "\n",
    "from omr_model_training import OMRModelTraining\n",
    "from omr_model_hyperparameters import OMRModelHyperparameters\n",
    "from omr_output_adapter import OMROutputAdapter\n",
    "from omr_input_adapter import OMRInputAdapter\n",
    "from primus import CTC_PriMuS\n",
    "\n",
    "# Load primus\n",
    "primus = CTC_PriMuS(\n",
    "    'Data/Primus',\n",
    "    'Data/train.txt',\n",
    "    'Data/vocabulary_semantic.txt',\n",
    "    True,\n",
    "    OMRInputAdapter(),\n",
    "    val_split = 0.1)\n",
    "\n",
    "hyperparameters = OMRModelHyperparameters(primus.vocabulary_size)\n",
    "\n",
    "OMRModelTraining().train(\n",
    "    hyperparameters, \n",
    "    primus, \n",
    "    OMROutputAdapter('Data/vocabulary_semantic.txt'),\n",
    "    'Models/')"
   ]
  },
  {
   "cell_type": "code",
   "execution_count": null,
   "metadata": {
    "ExecuteTime": {
     "end_time": "2019-07-31T14:18:50.956343Z",
     "start_time": "2019-07-31T14:18:50.897346Z"
    }
   },
   "outputs": [],
   "source": [
    "from IPython.display import Image\n",
    "import random\n",
    "\n",
    "EXAMPLE_LOCATION_PREFIX = 'Data/Example/'\n",
    "prediction_examples = ['220003025-1_1_1']\n",
    "\n",
    "sample_to_predict = random.choice(prediction_examples)\n",
    "\n",
    "image_path = EXAMPLE_LOCATION_PREFIX + sample_to_predict + '.png'\n",
    "mei_path = EXAMPLE_LOCATION_PREFIX + sample_to_predict + '.semantic'\n",
    "vocabulary_file_path = 'Data/vocabulary_semantic.txt'"
   ]
  },
  {
   "cell_type": "code",
   "execution_count": null,
   "metadata": {
    "ExecuteTime": {
     "end_time": "2019-07-31T14:18:51.591341Z",
     "start_time": "2019-07-31T14:18:51.517340Z"
    }
   },
   "outputs": [],
   "source": [
    "Image(filename=image_path) "
   ]
  },
  {
   "cell_type": "code",
   "execution_count": null,
   "metadata": {
    "ExecuteTime": {
     "end_time": "2019-07-31T14:18:52.492333Z",
     "start_time": "2019-07-31T14:18:52.415332Z"
    }
   },
   "outputs": [],
   "source": [
    "with open(mei_path, 'r') as file:\n",
    "    results = file.read().split('\\t')\n",
    "    \n",
    "for item in results:\n",
    "    print(item + '\\n')"
   ]
  },
  {
   "cell_type": "code",
   "execution_count": null,
   "metadata": {
    "ExecuteTime": {
     "end_time": "2019-07-31T14:18:59.557270Z",
     "start_time": "2019-07-31T14:18:53.193326Z"
    }
   },
   "outputs": [],
   "source": [
    "%reload_ext autoreload\n",
    "\n",
    "from omr_model_prediction import OMRModelPrediction\n",
    "from omr_input_adapter import OMRInputAdapter\n",
    "from omr_output_adapter import OMROutputAdapter\n",
    "\n",
    "model = OMRModelPrediction('Models/semantic_model.meta')"
   ]
  },
  {
   "cell_type": "code",
   "execution_count": 15,
   "metadata": {
    "ExecuteTime": {
     "end_time": "2019-07-31T14:35:42.218263Z",
     "start_time": "2019-07-31T14:35:41.960266Z"
    }
   },
   "outputs": [
    {
     "data": {
      "image/png": "[encoded data removed]",
      "text/plain": [
       "<IPython.core.display.Image object>"
      ]
     },
     "execution_count": 15,
     "metadata": {},
     "output_type": "execute_result"
    }
   ],
   "source": [
    "Image(filename=image_path) "
   ]
  },
  {
   "cell_type": "code",
   "execution_count": 16,
   "metadata": {
    "ExecuteTime": {
     "end_time": "2019-07-31T14:35:44.636350Z",
     "start_time": "2019-07-31T14:35:44.109356Z"
    }
   },
   "outputs": [
    {
     "name": "stdout",
     "output_type": "stream",
     "text": [
      "clef-G2\n",
      "timeSignature-2/4\n",
      "note-G4_quarter\n",
      "note-G4_eighth\n",
      "note-G4_eighth\n",
      "barline\n",
      "note-A4_eighth.\n",
      "note-G4_sixteenth\n",
      "note-F4_sixteenth\n",
      "note-E4_sixteenth\n",
      "note-F4_eighth\n",
      "tie\n",
      "note-F4_eighth\n",
      "note-Bb4_quarter\n",
      "note-A4_sixteenth\n",
      "note-G4_sixteenth\n",
      "barline\n",
      "note-A4_eighth\n",
      "note-G4_eighth\n",
      "note-G4_eighth\n",
      "note-A4_eighth\n",
      "barline\n"
     ]
    }
   ],
   "source": [
    "precdictions = model.predict(\n",
    "    image_path, \n",
    "    OMRInputAdapter(), \n",
    "    OMROutputAdapter(vocabulary_file_path))\n",
    "\n",
    "for item in precdictions:\n",
    "    print(item)"
   ]
  },
  {
   "cell_type": "code",
   "execution_count": null,
   "metadata": {},
   "outputs": [],
   "source": []
  },
  {
   "cell_type": "code",
   "execution_count": null,
   "metadata": {},
   "outputs": [],
   "source": []
  },
  {
   "cell_type": "code",
   "execution_count": null,
   "metadata": {},
   "outputs": [],
   "source": []
  },
  {
   "cell_type": "code",
   "execution_count": null,
   "metadata": {},
   "outputs": [],
   "source": []
  },
  {
   "cell_type": "code",
   "execution_count": null,
   "metadata": {},
   "outputs": [],
   "source": []
  },
  {
   "cell_type": "code",
   "execution_count": null,
   "metadata": {},
   "outputs": [],
   "source": []
  },
  {
   "cell_type": "code",
   "execution_count": null,
   "metadata": {},
   "outputs": [],
   "source": []
  }
 ],
 "metadata": {
  "kernelspec": {
   "display_name": "Python 3",
   "language": "python",
   "name": "python3"
  },
  "language_info": {
   "codemirror_mode": {
    "name": "ipython",
    "version": 3
   },
   "file_extension": ".py",
   "mimetype": "text/x-python",
   "name": "python",
   "nbconvert_exporter": "python",
   "pygments_lexer": "ipython3",
   "version": "3.6.8"
  }
 },
 "nbformat": 4,
 "nbformat_minor": 2
}
